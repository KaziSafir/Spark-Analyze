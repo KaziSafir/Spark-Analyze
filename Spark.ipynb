{
  "cells": [
    {
      "cell_type": "code",
      "execution_count": null,
      "metadata": {
        "colab": {
          "background_save": true,
          "base_uri": "https://localhost:8080/"
        },
        "id": "moK0nW0STOKx",
        "outputId": "d9935aad-4a88-46bf-9a4b-32f35507ac93"
      },
      "outputs": [
        {
          "name": "stdout",
          "output_type": "stream",
          "text": [
            "Collecting pyspark\n",
            "  Downloading pyspark-3.5.0.tar.gz (316.9 MB)\n",
            "\u001b[2K     \u001b[90m━━━━━━━━━━━━━━━━━━━━━━━━━━━━━━━━━━━━━━━━\u001b[0m \u001b[32m316.9/316.9 MB\u001b[0m \u001b[31m2.0 MB/s\u001b[0m eta \u001b[36m0:00:00\u001b[0m\n",
            "\u001b[?25h  Preparing metadata (setup.py) ... \u001b[?25l\u001b[?25hdone\n",
            "Requirement already satisfied: py4j==0.10.9.7 in /usr/local/lib/python3.10/dist-packages (from pyspark) (0.10.9.7)\n",
            "Building wheels for collected packages: pyspark\n",
            "  Building wheel for pyspark (setup.py) ... \u001b[?25l\u001b[?25hdone\n",
            "  Created wheel for pyspark: filename=pyspark-3.5.0-py2.py3-none-any.whl size=317425345 sha256=c2cde1bf2730ce53ba04771917d4d5491d20e39063dd92c94c794e583a4fec35\n",
            "  Stored in directory: /root/.cache/pip/wheels/41/4e/10/c2cf2467f71c678cfc8a6b9ac9241e5e44a01940da8fbb17fc\n",
            "Successfully built pyspark\n",
            "Installing collected packages: pyspark\n",
            "Successfully installed pyspark-3.5.0\n",
            "The following additional packages will be installed:\n",
            "  libxtst6 openjdk-8-jre-headless\n",
            "Suggested packages:\n",
            "  openjdk-8-demo openjdk-8-source libnss-mdns fonts-dejavu-extra fonts-nanum fonts-ipafont-gothic\n",
            "  fonts-ipafont-mincho fonts-wqy-microhei fonts-wqy-zenhei fonts-indic\n",
            "The following NEW packages will be installed:\n",
            "  libxtst6 openjdk-8-jdk-headless openjdk-8-jre-headless\n",
            "0 upgraded, 3 newly installed, 0 to remove and 24 not upgraded.\n",
            "Need to get 39.7 MB of archives.\n",
            "After this operation, 144 MB of additional disk space will be used.\n",
            "Selecting previously unselected package libxtst6:amd64.\n",
            "(Reading database ... 121666 files and directories currently installed.)\n",
            "Preparing to unpack .../libxtst6_2%3a1.2.3-1build4_amd64.deb ...\n",
            "Unpacking libxtst6:amd64 (2:1.2.3-1build4) ...\n",
            "Selecting previously unselected package openjdk-8-jre-headless:amd64.\n",
            "Preparing to unpack .../openjdk-8-jre-headless_8u392-ga-1~22.04_amd64.deb ...\n",
            "Unpacking openjdk-8-jre-headless:amd64 (8u392-ga-1~22.04) ...\n",
            "Selecting previously unselected package openjdk-8-jdk-headless:amd64.\n",
            "Preparing to unpack .../openjdk-8-jdk-headless_8u392-ga-1~22.04_amd64.deb ...\n",
            "Unpacking openjdk-8-jdk-headless:amd64 (8u392-ga-1~22.04) ...\n",
            "Setting up libxtst6:amd64 (2:1.2.3-1build4) ...\n",
            "Setting up openjdk-8-jre-headless:amd64 (8u392-ga-1~22.04) ...\n",
            "update-alternatives: using /usr/lib/jvm/java-8-openjdk-amd64/jre/bin/orbd to provide /usr/bin/orbd (orbd) in auto mode\n",
            "update-alternatives: using /usr/lib/jvm/java-8-openjdk-amd64/jre/bin/servertool to provide /usr/bin/servertool (servertool) in auto mode\n",
            "update-alternatives: using /usr/lib/jvm/java-8-openjdk-amd64/jre/bin/tnameserv to provide /usr/bin/tnameserv (tnameserv) in auto mode\n",
            "Setting up openjdk-8-jdk-headless:amd64 (8u392-ga-1~22.04) ...\n",
            "update-alternatives: using /usr/lib/jvm/java-8-openjdk-amd64/bin/clhsdb to provide /usr/bin/clhsdb (clhsdb) in auto mode\n",
            "update-alternatives: using /usr/lib/jvm/java-8-openjdk-amd64/bin/extcheck to provide /usr/bin/extcheck (extcheck) in auto mode\n",
            "update-alternatives: using /usr/lib/jvm/java-8-openjdk-amd64/bin/hsdb to provide /usr/bin/hsdb (hsdb) in auto mode\n",
            "update-alternatives: using /usr/lib/jvm/java-8-openjdk-amd64/bin/idlj to provide /usr/bin/idlj (idlj) in auto mode\n",
            "update-alternatives: using /usr/lib/jvm/java-8-openjdk-amd64/bin/javah to provide /usr/bin/javah (javah) in auto mode\n",
            "update-alternatives: using /usr/lib/jvm/java-8-openjdk-amd64/bin/jhat to provide /usr/bin/jhat (jhat) in auto mode\n",
            "update-alternatives: using /usr/lib/jvm/java-8-openjdk-amd64/bin/jsadebugd to provide /usr/bin/jsadebugd (jsadebugd) in auto mode\n",
            "update-alternatives: using /usr/lib/jvm/java-8-openjdk-amd64/bin/native2ascii to provide /usr/bin/native2ascii (native2ascii) in auto mode\n",
            "update-alternatives: using /usr/lib/jvm/java-8-openjdk-amd64/bin/schemagen to provide /usr/bin/schemagen (schemagen) in auto mode\n",
            "update-alternatives: using /usr/lib/jvm/java-8-openjdk-amd64/bin/wsgen to provide /usr/bin/wsgen (wsgen) in auto mode\n",
            "update-alternatives: using /usr/lib/jvm/java-8-openjdk-amd64/bin/wsimport to provide /usr/bin/wsimport (wsimport) in auto mode\n",
            "update-alternatives: using /usr/lib/jvm/java-8-openjdk-amd64/bin/xjc to provide /usr/bin/xjc (xjc) in auto mode\n",
            "Processing triggers for libc-bin (2.35-0ubuntu3.4) ...\n",
            "/sbin/ldconfig.real: /usr/local/lib/libtbbmalloc.so.2 is not a symbolic link\n",
            "\n",
            "/sbin/ldconfig.real: /usr/local/lib/libtbbbind.so.3 is not a symbolic link\n",
            "\n",
            "/sbin/ldconfig.real: /usr/local/lib/libtbbbind_2_0.so.3 is not a symbolic link\n",
            "\n",
            "/sbin/ldconfig.real: /usr/local/lib/libtbb.so.12 is not a symbolic link\n",
            "\n",
            "/sbin/ldconfig.real: /usr/local/lib/libtbbbind_2_5.so.3 is not a symbolic link\n",
            "\n",
            "/sbin/ldconfig.real: /usr/local/lib/libtbbmalloc_proxy.so.2 is not a symbolic link\n",
            "\n"
          ]
        }
      ],
      "source": [
        "!pip install pyspark\n",
        "!pip install -U -q PyDrive\n",
        "!apt install openjdk-8-jdk-headless -qq\n",
        "import os\n",
        "os.environ[\"JAVA_HOME\"] = '/usr/lib/jvm/java-8-openjdk-amd64'"
      ]
    },
    {
      "cell_type": "code",
      "execution_count": null,
      "metadata": {
        "id": "5C1lqr7xVqs_"
      },
      "outputs": [],
      "source": [
        "import pandas as pd  #python libary for reading data in tabel\n",
        "import numpy as np #bumerical python-process numerical data\n",
        "import matplotlib.pyplot as plt #libary plots\n",
        "import pyspark\n",
        "from pyspark.sql import * #importing pyspark\n",
        "from pyspark.sql.types import * #from pyspark importing sql libraries\n",
        "from pyspark.sql.functions import *\n",
        "from pyspark import SparkContext,SparkConf\n",
        "from pyspark.sql.functions import col,skewness,kurtosis #libary for skewness and kurtosis\n",
        "from pyspark.sql import SparkSession\n",
        "%matplotlib inline"
      ]
    },
    {
      "cell_type": "code",
      "execution_count": null,
      "metadata": {
        "id": "-OdgqlZnVufa"
      },
      "outputs": [],
      "source": [
        "#create the session\n",
        "conf = SparkConf().set(\"spark.ui.port\",\"4050\")\n",
        "\n",
        "#create the context\n",
        "sc = pyspark.SparkContext\n",
        "spark = SparkSession.builder.getOrCreate()"
      ]
    },
    {
      "cell_type": "code",
      "execution_count": null,
      "metadata": {
        "id": "6VlM81DJWLw2"
      },
      "outputs": [],
      "source": [
        "from pyspark.sql import SparkSession\n",
        "spark = SparkSession \\\n",
        ".builder \\\n",
        ".appName(\"Python Spark create RDD example\") \\\n",
        ".config(\"spark.some.config.option\", \"some-value\") \\\n",
        ".getOrCreate()\n",
        "#b) load the diabetes data.\n",
        "df =spark.read.format(\"csv\").option(\"header\",\"true\").load(\"diabetes.csv\")\n"
      ]
    },
    {
      "cell_type": "code",
      "execution_count": null,
      "metadata": {
        "colab": {
          "base_uri": "https://localhost:8080/"
        },
        "id": "5t-gPnJCd5E3",
        "outputId": "4884ad59-87fc-493d-a281-3d1aef23f4fe"
      },
      "outputs": [
        {
          "name": "stdout",
          "output_type": "stream",
          "text": [
            "+-----------+-------+-------------+-------------+-------+----+--------+---+-------+\n",
            "|Pregnancies|Glucose|BloodPressure|SkinThickness|Insulin| BMI|Diabetes|Age|Outcome|\n",
            "+-----------+-------+-------------+-------------+-------+----+--------+---+-------+\n",
            "|          6|    148|           72|           35|      0|33.6|   0.627| 50|      1|\n",
            "|          1|     85|           66|           29|      0|26.6|   0.351| 31|      0|\n",
            "|          8|    183|           64|            0|      0|23.3|   0.672| 32|      1|\n",
            "|          1|     89|           66|           23|     94|28.1|   0.167| 21|      0|\n",
            "|          0|    137|           40|           35|    168|43.1|   2.288| 33|      1|\n",
            "|          5|    116|           74|            0|      0|25.6|   0.201| 30|      0|\n",
            "|          3|     78|           50|           32|     88|  31|   0.248| 26|      1|\n",
            "|         10|    115|            0|            0|      0|35.3|   0.134| 29|      0|\n",
            "+-----------+-------+-------------+-------------+-------+----+--------+---+-------+\n",
            "only showing top 8 rows\n",
            "\n",
            "root\n",
            " |-- Pregnancies: string (nullable = true)\n",
            " |-- Glucose: string (nullable = true)\n",
            " |-- BloodPressure: string (nullable = true)\n",
            " |-- SkinThickness: string (nullable = true)\n",
            " |-- Insulin: string (nullable = true)\n",
            " |-- BMI: string (nullable = true)\n",
            " |-- Diabetes: string (nullable = true)\n",
            " |-- Age: string (nullable = true)\n",
            " |-- Outcome: string (nullable = true)\n",
            "\n"
          ]
        }
      ],
      "source": [
        "#d) Read the code and print the schema of the diabetes data\n",
        "df.show(8)\n",
        "df.printSchema()"
      ]
    },
    {
      "cell_type": "code",
      "execution_count": null,
      "metadata": {
        "colab": {
          "base_uri": "https://localhost:8080/"
        },
        "id": "g7zI8XymXKJy",
        "outputId": "74e22bb8-ca63-46f9-97e2-449e6d15e76e"
      },
      "outputs": [
        {
          "name": "stdout",
          "output_type": "stream",
          "text": [
            "+-------+-----------------+------------------+------------------+\n",
            "|summary|          Glucose|     BloodPressure|               BMI|\n",
            "+-------+-----------------+------------------+------------------+\n",
            "|  count|              768|               768|               768|\n",
            "|   mean|     120.89453125|       69.10546875|31.992578124999977|\n",
            "| stddev|31.97261819513622|19.355807170644777| 7.884160320375441|\n",
            "|    min|                0|                 0|                 0|\n",
            "|    max|               99|                98|              67.1|\n",
            "+-------+-----------------+------------------+------------------+\n",
            "\n"
          ]
        }
      ],
      "source": [
        "#e) Describe and show Glucose, Blood Pressure and BMI cols\n",
        "num_cols = ['Glucose','BloodPressure','BMI']\n",
        "df.select(num_cols).describe().show()"
      ]
    },
    {
      "cell_type": "code",
      "execution_count": null,
      "metadata": {
        "colab": {
          "base_uri": "https://localhost:8080/"
        },
        "id": "SYfXlSieXf7i",
        "outputId": "2820852a-60d8-4cb7-93ec-66ec3813e029"
      },
      "outputs": [
        {
          "name": "stdout",
          "output_type": "stream",
          "text": [
            "+------------------+-----------------------+\n",
            "| skewness(Glucose)|kurtosis(BloodPressure)|\n",
            "+------------------+-----------------------+\n",
            "|0.1734139551998773|      5.138690662525448|\n",
            "+------------------+-----------------------+\n",
            "\n"
          ]
        }
      ],
      "source": [
        "#f) Calculate skewness and kurtosis of Glucose and Blood Pressure cols\n",
        "df.select(skewness(\"Glucose\"),kurtosis(\"BloodPressure\")).show()"
      ]
    },
    {
      "cell_type": "code",
      "execution_count": null,
      "metadata": {
        "colab": {
          "base_uri": "https://localhost:8080/",
          "height": 872
        },
        "id": "XIxlb8g1XwH-",
        "outputId": "c4fbdf26-ca85-4cbe-9550-cede0bd4a96c"
      },
      "outputs": [
        {
          "data": {
            "image/png": "[encoded data removed]",
            "text/plain": [
              "<Figure size 1200x1000 with 1 Axes>"
            ]
          },
          "metadata": {},
          "output_type": "display_data"
        }
      ],
      "source": [
        "#g) Create a histogram of Bloodpressure data\n",
        "#(you can choose the number of bins, color and edge color)\n",
        "spark = SparkSession.builder.appName(\"Histogram\").getOrCreate()\n",
        "data = spark.read.csv(\"diabetes.csv\", header=True, inferSchema=True)\n",
        "BloodPressuredata = data.select(\"BloodPressure\")\n",
        "pandas_df = BloodPressuredata.toPandas()\n",
        "\n",
        "plt.figure(figsize=(12,10))\n",
        "plt.hist(pandas_df[\"BloodPressure\"], bins=20, color=\"red\",edgecolor=\"black\")\n",
        "plt.xlabel(\"BloodPressure\")\n",
        "plt.ylabel(\"count\")\n",
        "plt.title(\"BloodPressure Histograme\")\n",
        "plt.show()\n",
        "spark.stop()"
      ]
    }
  ],
  "metadata": {
    "colab": {
      "provenance": []
    },
    "kernelspec": {
      "display_name": "Python 3",
      "name": "python3"
    },
    "language_info": {
      "name": "python"
    }
  },
  "nbformat": 4,
  "nbformat_minor": 0
}